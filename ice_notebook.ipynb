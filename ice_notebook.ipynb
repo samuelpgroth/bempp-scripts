{
 "cells": [
  {
   "cell_type": "markdown",
   "metadata": {},
   "source": [
    "## Scattering of unpolarized light by a dielectric ice crystal\n",
    "An unpolarized wave travelling in the x-direction strikes a dielectric obstacle in fixed orientation. \n",
    "We wish tp calculate the scattering matrix elements in the $(x,y)$-plane, and the scattering, extinction and absorption cross sections. See \"The boundary element method for light scattering by ice crystals and its implementation in BEM++\" (2015) for more details of the setup.\n",
    "\n",
    "Consider the scattering of a monochromatic plane wave with time-dependence $e^{-\\mbox{i}\\omega t}$ by an open and bounded set $\\Omega_2\\subset\\mathbb{R}^3$. Suppose that $\\Omega_2$ is occupied by a homogeneous and isotropic dielectric material with a complex refractive index $n_2:=\\sqrt{\\mu_2\\varepsilon_2}$. Further it is assumed that $\\Omega_2$ is surrounded by an unbounded homogeneous medium $\\Omega_1 := \\mathbb{R}^3\\backslash\\overline{\\Omega_2}$ with refractive index $n_1:=\\sqrt{\\mu_1\\varepsilon_1}$ where $\\overline{\\Omega_2}$ denotes the closure of $\\Omega_2$ in $\\mathbb{R}^3$. Throughout, we shall refer to $\\Omega_1$ and $\\Omega_2$ as the exterior and interior domains, respectively. Now we state the $\\textit{electromagnetic transmission problem}$.\n",
    "\n",
    "<img src=dielectric.png width=\"400\">\n",
    "\n",
    "## Electromagnetic transmission problem\n",
    "Given an incident field $\\mathbf{E}^i(\\mathbf{x})= \\mathbf{E}_0e^{\\mbox{i} k_1\\mathbf{d}^i\\cdot\\mathbf{x}}$, where $\\mathbf{x}\\in\\mathbb{R}^3$ and $\\mathbf{d}^i$ is a unit direction vector, we wish to determine the fields $\\mathbf{E}_1(\\mathbf{x})$ and $\\mathbf{E}_2(\\mathbf{x})$ satisfying\n",
    "\n",
    "\\begin{align}\n",
    "   \\nabla\\times\\nabla\\times\\mathbf{E}_1 - k_1^2\\mathbf{E}_1 & = 0 \\quad \\mbox{in}\\ \\Omega_1, \\\\ \n",
    "   \\nabla\\times\\nabla\\times\\mathbf{E}_2 - k_2^2\\mathbf{E}_2 & = 0 \\quad \\mbox{in}\\ \\Omega_2,\n",
    "\\end{align}\n",
    "\n",
    "and the transmission conditions on the boundary $\\Gamma$:\n",
    "\n",
    "\\begin{align}\n",
    "    \\gamma_D^+\\mathbf{E}_1 = \\gamma_D^-\\mathbf{E}_2  \\quad \\mbox{and} \\quad \\frac{k_1}{\\mu_1}\\gamma_N^+\\mathbf{E}_1 = \\frac{k_2}{\\mu_2}\\gamma_N^-\\mathbf{E}_2 \\quad \\mbox{on}\\ \\Gamma,\n",
    "\\end{align}\n",
    "\n",
    "where $k_j = \\omega\\sqrt{\\mu_j\\varepsilon_j}$ for $j=1,2$. In addition, the scattered field $\\mathbf{E}^s:=\\mathbf{E}_1-\\mathbf{E}^i$ must satisfy the Silver-Muller radiation condition\n",
    "\n",
    "\\begin{align}\n",
    "    \\hat{\\mathbf{x}}\\times\\nabla\\times\\mathbf{E}^s(\\mathbf{x})+\\mbox{i} k_1\\mathbf{E}^s(\\mathbf{x}) = o\\left(\\frac{1}{r}\\right)\\quad \\mbox{as}\\quad r:=|\\mathbf{x}|\\rightarrow\\infty,\n",
    "\\end{align}\n",
    "\n",
    "where $\\hat{\\mathbf{x}}=\\mathbf{x}/|\\mathbf{x}|$. The above operators $\\gamma_D^+$ and $\\gamma_D^-$ denote respectively the exterior and interior Dirichlet trace operators where the Dirichlet trace operator is defined as\n",
    "\n",
    "\\begin{align}\n",
    "     \\gamma_D\\mathbf{E} := \\mathbf{n}\\times \\mathbf{E}\\vert_{\\Gamma},\n",
    "\\end{align}\n",
    "\n",
    "where $\\mathbf{n}$ is the outward normal to $\\Gamma$. The operators $\\gamma_N^+$ and $\\gamma_N^-$ denote respectively the exterior and interior Neumann trace operators where the Neumann trace operator is defined as\n",
    "\n",
    "\\begin{align}\n",
    "    \\gamma_N\\mathbf{E} := \\frac{1}{\\mbox{i} k}\\mathbf{n}\\times(\\nabla\\times\\mathbf{E})|_{\\Gamma}.\n",
    "\\end{align}"
   ]
  },
  {
   "cell_type": "code",
   "execution_count": 1,
   "metadata": {},
   "outputs": [],
   "source": [
    "import bempp.api\n",
    "import numpy as np"
   ]
  },
  {
   "cell_type": "markdown",
   "metadata": {},
   "source": [
    "Currently assembly is performed in `dense` mode since I cannot get iterative solvers to work yet."
   ]
  },
  {
   "cell_type": "code",
   "execution_count": 2,
   "metadata": {},
   "outputs": [],
   "source": [
    "kExt = 5.\n",
    "h = 2*np.pi/(5 * kExt) # 5 to 10 elements per exterior wavelength gives reasonable accuracy"
   ]
  },
  {
   "cell_type": "code",
   "execution_count": 3,
   "metadata": {},
   "outputs": [],
   "source": [
    "ref_ind = 1.311+2.289e-9j"
   ]
  },
  {
   "cell_type": "code",
   "execution_count": 4,
   "metadata": {},
   "outputs": [],
   "source": [
    "grid = bempp.api.shapes.sphere(h=h) # creates a sphere"
   ]
  },
  {
   "cell_type": "markdown",
   "metadata": {},
   "source": [
    "Define the material properties. Introduce $\\rho$ as \n",
    "\n",
    "$$\n",
    "    \\rho = \\frac{k_2 \\mu_1}{k_1 \\mu_2}.\n",
    "$$"
   ]
  },
  {
   "cell_type": "code",
   "execution_count": 5,
   "metadata": {},
   "outputs": [],
   "source": [
    "muInt = 1\n",
    "muExt = 1\n",
    "kInt = kExt * ref_ind\n",
    "rho = (kInt * muExt) / (kExt * muInt)"
   ]
  },
  {
   "cell_type": "markdown",
   "metadata": {},
   "source": [
    "A suitable space for Maxwell problems is the Raviart-Thomas space of order 0. Higher-order Raviart-Thomas spaces are currently not available in BEM++."
   ]
  },
  {
   "cell_type": "code",
   "execution_count": 6,
   "metadata": {},
   "outputs": [
    {
     "name": "stdout",
     "output_type": "stream",
     "text": [
      "The space has 969 dofs\n"
     ]
    }
   ],
   "source": [
    "space = bempp.api.function_space(grid, \"RT\", 0)\n",
    "print(\"The space has {0} dofs\".format(space.global_dof_count))\n",
    "curl_space = bempp.api.function_space(grid, \"NC\", 0)"
   ]
  },
  {
   "cell_type": "markdown",
   "metadata": {},
   "source": [
    "To calculate the scattering for an unpolarized incident wave, we consider two different polarizations of the incident wave. These $z$-polarized, i.e.,\n",
    "\n",
    "$$\n",
    "    \\mathbf{E}_0 = (0,0,1),\n",
    "$$\n",
    "\n",
    "and $y$-polarized, i.e.,\n",
    "\n",
    "$$\n",
    "    \\mathbf{E}_0 = (0,1,0).\n",
    "$$\n",
    "\n",
    "For these two incident waves, we define the `incident_field` functions along with functions corresponding to their Dirichlet and Neumann traces."
   ]
  },
  {
   "cell_type": "code",
   "execution_count": 7,
   "metadata": {},
   "outputs": [],
   "source": [
    "# Incident field polarized in z-direction\n",
    "def incident_field_z(x):\n",
    "    return np.array([0. * x[0], 0. * x[0], np.exp(1j * kExt * x[0])])\n",
    "\n",
    "# Incident field polarized in y-direction\n",
    "def incident_field_y(x):\n",
    "    return np.array([0. * x[0], np.exp(1j * kExt * x[0]), 0. * x[0]])\n",
    "\n",
    "# Create incident field definition and its Dirichlet and Neumann traces\n",
    "def evalIncDirichletTrace_z(x, n, domain_index, result):\n",
    "    result[:] = np.cross(incident_field_z(x), n, axis=0)\n",
    "    \n",
    "def evalIncDirichletTrace_y(x, n, domain_index, result):\n",
    "    result[:] = np.cross(incident_field_y(x), n, axis=0)\n",
    "\n",
    "def evalIncNeumannTrace_z(x, n, domain_index, result):\n",
    "    curl = np.array([x[0] * 0. ,-1j * kExt * np.exp(1j * kExt * x[0]), x[0] * 0.])\n",
    "    result[:] = np.cross(curl / (1j * kExt), n, axis=0)\n",
    "    \n",
    "def evalIncNeumannTrace_y(x, n, domain_index, result):\n",
    "    curl = np.array([x[0] * 0., x[0] * 0. ,1j * kExt * np.exp(1j * kExt * x[0])])\n",
    "    result[:] = np.cross(curl / (1j * kExt) , n, axis=0)\n",
    "    \n",
    "# Construct the grid functions representing the traces of the incident field\n",
    "incDirichletTrace_z = bempp.api.GridFunction(space, fun=evalIncDirichletTrace_z)\n",
    "incNeumannTrace_z = bempp.api.GridFunction(space, fun=evalIncNeumannTrace_z)\n",
    "incDirichletTrace_y = bempp.api.GridFunction(space, fun=evalIncDirichletTrace_y)\n",
    "incNeumannTrace_y = bempp.api.GridFunction(space, fun=evalIncNeumannTrace_y)"
   ]
  },
  {
   "cell_type": "markdown",
   "metadata": {},
   "source": [
    "## Boundary integral equation formulation"
   ]
  },
  {
   "cell_type": "code",
   "execution_count": 8,
   "metadata": {},
   "outputs": [],
   "source": [
    "# Construct necessary BIE operators\n",
    "slpOpExt = bempp.api.operators.boundary.maxwell.electric_field(space,space,curl_space,kExt)\n",
    "dlpOpExt = bempp.api.operators.boundary.maxwell.magnetic_field(space,space,curl_space,kExt)\n",
    "slpOpInt = bempp.api.operators.boundary.maxwell.electric_field(space,space,curl_space,kInt)\n",
    "dlpOpInt = bempp.api.operators.boundary.maxwell.magnetic_field(space,space,curl_space,kInt)\n",
    "idOp = bempp.api.operators.boundary.sparse.identity(space,space,curl_space)"
   ]
  },
  {
   "cell_type": "markdown",
   "metadata": {},
   "source": [
    "This is the integral equation employed in my JQSRT paper, namely:\n",
    "\n",
    "\\begin{equation}\n",
    "     \\begin{pmatrix} \\mathcal{C}_+ + \\mathcal{C}_- & \\mathcal{S}_+ + \\frac{1}{\\rho}\\mathcal{S}_- \\\\ -\\mathcal{S}_+ - \\rho \\mathcal{S}_- & \\mathcal{C}_+ + \\mathcal{C}_- \\end{pmatrix}\n",
    "     \\begin{pmatrix} \\gamma_D\\mathbf{E} \\\\ \\gamma_N\\mathbf{E} \\end{pmatrix}\n",
    "     =\n",
    "     \\begin{pmatrix} \\gamma_D\\mathbf{E}^i \\\\ \\gamma_N\\mathbf{E}^i \\end{pmatrix}.\n",
    "\\end{equation}\n",
    "   \n",
    "Later we provide another possible integral equation formulation. The user may experiment with both to decide which is superior. \n",
    "\n",
    "Note that here all traces are the positive traces, i.e., those taken from the exterior of the scatterer. "
   ]
  },
  {
   "cell_type": "code",
   "execution_count": 9,
   "metadata": {},
   "outputs": [],
   "source": [
    "# # Form the left- and right-hand-side operators\n",
    "# lhsOp = bempp.api.BlockedOperator(2, 2)\n",
    "# lhsOp[0,0] = lhsOp[1,1] = dlpOpExt + dlpOpInt\n",
    "# lhsOp[0,1] = slpOpExt + (1. / rho) * slpOpInt\n",
    "# lhsOp[1,0] = -(slpOpExt + rho * slpOpInt)\n",
    "\n",
    "# uI_z = idOp * incDirichletTrace_z\n",
    "# dudnI_z = idOp * incNeumannTrace_z\n",
    "# uI_y = idOp * incDirichletTrace_y\n",
    "# dudnI_y = idOp * incNeumannTrace_y\n",
    "\n",
    "# rhs_z=2*[None]\n",
    "# rhs_z[0] = uI_z\n",
    "# rhs_z[1] = dudnI_z\n",
    "# rhs_y=2*[None]\n",
    "# rhs_y[0] = uI_y\n",
    "# rhs_y[1] = dudnI_y"
   ]
  },
  {
   "cell_type": "markdown",
   "metadata": {},
   "source": [
    "The integral equation formulation below is that employed in [Timo's Oberwolfach paper (2013)](https://www.mfo.de/document/1304/OWR_2013_03.pdf), namely:\n",
    "\n",
    "\\begin{equation}\n",
    "     \\begin{pmatrix} \\mathcal{S}_+ + \\mathcal{S}_- & -\\left(\\frac{1}{2}(1-\\frac{1}{\\rho})\\mathcal{I}+ \\mathcal{C}_+ + \\frac{1}{\\rho}\\mathcal{C}_-\\right) \\\\ \\frac{1}{2}(1-\\rho)\\mathcal{I}+\\mathcal{C}_+ + \\rho\\mathcal{C}_- & \\mathcal{S}_+ + \\mathcal{S}_- \\end{pmatrix}\n",
    "     \\begin{pmatrix} \\gamma_D\\mathbf{E} \\\\ \\gamma_N\\mathbf{E} \\end{pmatrix}\n",
    "     =\n",
    "     \\begin{pmatrix} -\\gamma_N\\mathbf{E}^i \\\\ \\gamma_D\\mathbf{E}^i \\end{pmatrix}.\n",
    "   \\end{equation}"
   ]
  },
  {
   "cell_type": "code",
   "execution_count": 10,
   "metadata": {},
   "outputs": [],
   "source": [
    "# Alternative integral equation formulation (from Timo's Oberwolfach paper)\n",
    "# Form the left- and right-hand-side operators\n",
    "lhsOp = bempp.api.BlockedOperator(2, 2)\n",
    "lhsOp[0,0] = lhsOp[1,1] = slpOpExt + slpOpInt\n",
    "lhsOp[0,1] =  -(dlpOpExt + dlpOpInt * (1. / rho) + 0.5 * (1. - 1. / rho) * idOp)\n",
    "lhsOp[1,0] =  (dlpOpExt + dlpOpInt * rho + 0.5 * (1. - 1. * rho) * idOp)\n",
    "\n",
    "uI_z = idOp * incDirichletTrace_z\n",
    "dudnI_z = -idOp * incNeumannTrace_z\n",
    "uI_y = idOp * incDirichletTrace_y\n",
    "dudnI_y = -idOp * incNeumannTrace_y\n",
    "\n",
    "rhs_z=2*[None]\n",
    "rhs_z[0] = dudnI_z\n",
    "rhs_z[1] = uI_z\n",
    "rhs_y=2*[None]\n",
    "rhs_y[0] = dudnI_y\n",
    "rhs_y[1] = uI_y"
   ]
  },
  {
   "cell_type": "markdown",
   "metadata": {},
   "source": [
    "## Solving the system\n",
    "We solve the system by converting the blocked integral operator and the right-hand side to numpy arrays and then using the linalg.solve command. This does not exploit $\\mathcal{H}$-matrix compression, however it is the only method with which I can obtain the correct solution at present."
   ]
  },
  {
   "cell_type": "code",
   "execution_count": 11,
   "metadata": {},
   "outputs": [
    {
     "name": "stdout",
     "output_type": "stream",
     "text": [
      "The z-polarized linear system was solved in 192 iterations\n"
     ]
    }
   ],
   "source": [
    "lambda_data_z, info, its_z = bempp.api.linalg.gmres(\n",
    "    lhsOp, rhs_z, tol=1e-05, maxiter=None, return_iteration_count=True)\n",
    "print(\"The z-polarized linear system was solved in {0} iterations\".format(its_z))"
   ]
  },
  {
   "cell_type": "code",
   "execution_count": 12,
   "metadata": {},
   "outputs": [
    {
     "name": "stdout",
     "output_type": "stream",
     "text": [
      "The y-polarized linear system was solved in 195 iterations\n"
     ]
    }
   ],
   "source": [
    "lambda_data_y, info, its_y = bempp.api.linalg.gmres(\n",
    "    lhsOp, rhs_y, tol=1e-05, maxiter=None, return_iteration_count=True)\n",
    "print(\"The y-polarized linear system was solved in {0} iterations\".format(its_y))"
   ]
  },
  {
   "cell_type": "markdown",
   "metadata": {},
   "source": [
    "Extract $\\gamma_D\\mathbf{E}$ and $\\gamma_N\\mathbf{E}$ and store as BEM++ grid functions."
   ]
  },
  {
   "cell_type": "code",
   "execution_count": 13,
   "metadata": {},
   "outputs": [],
   "source": [
    "# Gather the appropriate parts of the solution.\n",
    "total_field_dirichlet_z = lambda_data_z[0]\n",
    "total_field_neumann_z = lambda_data_z[1]\n",
    "\n",
    "total_field_dirichlet_y = lambda_data_y[0]\n",
    "total_field_neumann_y = lambda_data_y[1]"
   ]
  },
  {
   "cell_type": "markdown",
   "metadata": {},
   "source": [
    "## Calculate far-field and scattering matrix from boundary data\n",
    "We calculate the far-field pattern in 3601 evenly spaced directions in the $(x,y)$-plane."
   ]
  },
  {
   "cell_type": "code",
   "execution_count": 14,
   "metadata": {},
   "outputs": [],
   "source": [
    "bempp.api.global_parameters.hmat.eps = 1E-5\n",
    "theta = np.linspace(0, 2 * np.pi, 3601)\n",
    "points = np.vstack([np.cos(theta), np.sin(theta), 0. * theta])"
   ]
  },
  {
   "cell_type": "code",
   "execution_count": 15,
   "metadata": {},
   "outputs": [],
   "source": [
    "dlp_far_field = bempp.api.operators.far_field.maxwell.magnetic_field(space, points, kExt)\n",
    "slp_far_field = bempp.api.operators.far_field.maxwell.electric_field(space, points, kExt)\n",
    "\n",
    "ffp_z = -dlp_far_field.evaluate(total_field_dirichlet_z) -slp_far_field.evaluate(total_field_neumann_z)\n",
    "ffp_y = -dlp_far_field.evaluate(total_field_dirichlet_y) -slp_far_field.evaluate(total_field_neumann_y)"
   ]
  },
  {
   "cell_type": "markdown",
   "metadata": {},
   "source": [
    "From the far-field, the $\\textit{amplitude scattering matrix}$ entries are calculated."
   ]
  },
  {
   "cell_type": "code",
   "execution_count": 16,
   "metadata": {},
   "outputs": [],
   "source": [
    "A22 = -1j * kExt * ffp_z[2,:]   # -1j * kExt is to make agree with eqn 3.21 p70 Bohren and Huffman\n",
    "A12 = -1j * kExt * (- np.sin(theta) * ffp_z[0,:] + np.cos(theta) * ffp_z[1,:])\n",
    "\n",
    "A11 = -1j * kExt * (- np.sin(theta) * ffp_y[0,:] + np.cos(theta) * ffp_y[1,:])\n",
    "A21 = -1j * kExt * ffp_y[2,:]"
   ]
  },
  {
   "cell_type": "markdown",
   "metadata": {},
   "source": [
    "The amplitude scattering matrix is then used to calculated the $\\textit{phase scattering matrix}$."
   ]
  },
  {
   "cell_type": "code",
   "execution_count": 17,
   "metadata": {},
   "outputs": [],
   "source": [
    "S11 = 0.5*(abs(A11)**2+abs(A22)**2+abs(A21)**2+abs(A12)**2)\n",
    "S12 = 0.5*(abs(A11)**2-abs(A22)**2+abs(A21)**2-abs(A12)**2)\n",
    "S13 = np.real(A11*np.conjugate(A12)+A22*np.conjugate(A21))\n",
    "S14 = np.imag(A11*np.conjugate(A12)-A22*np.conjugate(A21))\n",
    "S21 = 0.5*(abs(A11)**2-abs(A22)**2-abs(A21)**2+abs(A12)**2)\n",
    "S22 = 0.5*(abs(A11)**2+abs(A22)**2-abs(A21)**2-abs(A12)**2)\n",
    "S23 = np.real(A11*np.conjugate(A12)-A22*np.conjugate(A21))\n",
    "S24 = np.imag(A11*np.conjugate(A12)+A22*np.conjugate(A21))\n",
    "S31 = np.real(A11*np.conjugate(A21)+A22*np.conjugate(A12))\n",
    "S32 = np.real(A11*np.conjugate(A21)-A22*np.conjugate(A12))\n",
    "S33 = np.real(np.conjugate(A11)*A22+A12*np.conjugate(A21))\n",
    "S34 = np.imag(A11*np.conjugate(A22)+A21*np.conjugate(A12))\n",
    "S41 = np.imag(np.conjugate(A11)*A21+np.conjugate(A12)*A22)\n",
    "S42 = np.imag(np.conjugate(A11)*A21-np.conjugate(A12)*A22)\n",
    "S43 = np.imag(A22*np.conjugate(A11)-A12*np.conjugate(A21))\n",
    "S44 = np.real(np.conjugate(A11)*A22-A12*np.conjugate(A21))"
   ]
  },
  {
   "cell_type": "markdown",
   "metadata": {},
   "source": [
    "## Comparison to exact solution from Mie theory\n",
    "If we are considering scattering by a sphere, we can compare the BEM approximation to the analytical solution obtained via Mie theory (separation of variables (give reference))."
   ]
  },
  {
   "cell_type": "code",
   "execution_count": 18,
   "metadata": {},
   "outputs": [],
   "source": [
    "from mie_series import bhmie\n",
    "ka = kExt\n",
    "refIndex = ref_ind\n",
    "numAngles = 901\n",
    "\n",
    "[s1,s2,qext,qsca,qback,gsca]=bhmie(ka,refIndex,numAngles)\n",
    "P11Mie = 0.5*(abs(s1)**2+abs(s2)**2)#*4*pi/(ka**2*pi*qsca)"
   ]
  },
  {
   "cell_type": "markdown",
   "metadata": {},
   "source": [
    "Plot entries of the amplitude scattering matrix. For the sphere, $A_{12}=A_{21}=0$."
   ]
  },
  {
   "cell_type": "code",
   "execution_count": 19,
   "metadata": {},
   "outputs": [
    {
     "data": {
      "text/plain": [
       "[None, None, None, None, None, None, None, None]"
      ]
     },
     "execution_count": 19,
     "metadata": {},
     "output_type": "execute_result"
    },
    {
     "name": "stderr",
     "output_type": "stream",
     "text": [
      "/usr/lib/python2.7/dist-packages/matplotlib/scale.py:93: RuntimeWarning: invalid value encountered in less_equal\n",
      "  mask = a <= 0.0\n"
     ]
    },
    {
     "data": {
      "image/png": "[encoded data removed]",
      "text/plain": [
       "<matplotlib.figure.Figure at 0x7f0256aa1e50>"
      ]
     },
     "metadata": {},
     "output_type": "display_data"
    }
   ],
   "source": [
    "%matplotlib inline\n",
    "from matplotlib import pyplot as plt\n",
    "from matplotlib import pylab\n",
    "\n",
    "f, (ax1, ax2) = plt.subplots(2, sharex=True, sharey=True)\n",
    "ax1.semilogy(theta[:1801],abs(s2)**2,'-r',theta[:1801],abs(A11[:1801])**2,'--b')\n",
    "ax1.set_title('$A_{11}$ and $A_{22}$: Mie (solid) vs. BEM (dashed)')\n",
    "ax2.semilogy(theta[:1801],abs(s1)**2,'-r',theta[:1801],abs(A22[:1801])**2,'--b')\n",
    "f.subplots_adjust(hspace=0)\n",
    "plt.setp([a.get_xticklabels() for a in f.axes[:-1]], visible=False)\n"
   ]
  },
  {
   "cell_type": "markdown",
   "metadata": {},
   "source": [
    "Written by S. P. Groth on 5th November 2016, Reading, UK."
   ]
  }
 ],
 "metadata": {
  "kernelspec": {
   "display_name": "Python 2",
   "language": "python",
   "name": "python2"
  },
  "language_info": {
   "codemirror_mode": {
    "name": "ipython",
    "version": 2
   },
   "file_extension": ".py",
   "mimetype": "text/x-python",
   "name": "python",
   "nbconvert_exporter": "python",
   "pygments_lexer": "ipython2",
   "version": "2.7.12"
  }
 },
 "nbformat": 4,
 "nbformat_minor": 1
}
