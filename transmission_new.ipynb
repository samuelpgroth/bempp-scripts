{
 "cells": [
  {
   "cell_type": "code",
   "execution_count": 1,
   "metadata": {},
   "outputs": [],
   "source": [
    "import bempp.api\n",
    "import numpy as np\n",
    "\n",
    "bempp.api.global_parameters.hmat.eps = 1E-5"
   ]
  },
  {
   "cell_type": "code",
   "execution_count": 2,
   "metadata": {},
   "outputs": [],
   "source": [
    "centers = [0]\n",
    "number_of_scatterers = len(centers)\n",
    "\n",
    "#GRID = bempp.api.shapes.sphere(r=1.0, origin=(0, 0, 0), h=0.25)\n",
    "#GRID = bempp.api.import_grid('hex-plate-e-0.4.msh')\n",
    "GRID = bempp.api.import_grid('hex_AR0pt1_e0pt05.msh')"
   ]
  },
  {
   "cell_type": "code",
   "execution_count": 3,
   "metadata": {},
   "outputs": [
    {
     "name": "stdout",
     "output_type": "stream",
     "text": [
      "The exterior wavenumber is: 5.0\n",
      "The interior wavenumber is: (8.875+0.013500000000000002j)\n"
     ]
    }
   ],
   "source": [
    "vacuum_permittivity = 8.854187817E-12\n",
    "\n",
    "er = (1.775+0.0027j)**2  \n",
    "mr = 1.0\n",
    "\n",
    "\n",
    "rel_permittivities = number_of_scatterers * [2.1]\n",
    "rel_permeabilities = number_of_scatterers * [1.0]\n",
    "\n",
    "k0 = 5.\n",
    "wavenumber = k0 * np.sqrt(er * mr)\n",
    "print(\"The exterior wavenumber is: {0}\".format(k0))\n",
    "print(\"The interior wavenumber is: {0}\".format(wavenumber))"
   ]
  },
  {
   "cell_type": "code",
   "execution_count": 4,
   "metadata": {},
   "outputs": [],
   "source": [
    "theta = np.pi / 2 # Incident wave travelling at a 90 degree angle\n",
    "direction = np.array([np.cos(theta), np.sin(theta), 0])\n",
    "polarization = np.array([1.0, 0.0, 0.0])\n",
    "\n",
    "def plane_wave(point):\n",
    "    return polarization * np.exp(1j * k0 * np.dot(point, direction))\n",
    "\n",
    "def scaled_plane_wave(point):\n",
    "    return np.sqrt(vacuum_permittivity) * plane_wave(point)\n",
    "\n",
    "def tangential_trace(point, n, domain_index, result):\n",
    "    result[:] =  np.cross(scaled_plane_wave(point), n)\n",
    "\n",
    "def scaled_plane_wave_curl(point):\n",
    "    return np.cross(direction, polarization) * 1j * k0 * np.sqrt(vacuum_permittivity) * np.exp(1j * k0 * np.dot(point, direction))\n",
    "\n",
    "def neumann_trace(point, n, domain_index, result):\n",
    "    result[:] =  1./ (1j * k0) * np.cross(scaled_plane_wave_curl(point), n)"
   ]
  },
  {
   "cell_type": "code",
   "execution_count": 5,
   "metadata": {},
   "outputs": [],
   "source": [
    "def rescale(A, d1, d2):\n",
    "    \"\"\"Rescale the 2x2 block operator matrix A\"\"\"\n",
    "    \n",
    "    A[0, 1] = A[0, 1] * (d2 / d1)\n",
    "    A[1, 0] = A[1, 0] * (d1 / d2)\n",
    "    \n",
    "    return A"
   ]
  },
  {
   "cell_type": "code",
   "execution_count": 6,
   "metadata": {},
   "outputs": [],
   "source": [
    "scaled_interior_operators = [rescale(bempp.api.operators.boundary.maxwell.multitrace_operator(\n",
    "        GRID, wavenumber), np.sqrt(er), np.sqrt(mr))]\n",
    "\n",
    "identity_operators = [bempp.api.operators.boundary.sparse.multitrace_identity(GRID, spaces='maxwell')]\n",
    "\n",
    "exterior_operators = [bempp.api.operators.boundary.maxwell.multitrace_operator(GRID, k0)]"
   ]
  },
  {
   "cell_type": "code",
   "execution_count": 7,
   "metadata": {},
   "outputs": [],
   "source": [
    "filter_operators = number_of_scatterers * [None]\n",
    "transfer_operators = np.empty((number_of_scatterers, number_of_scatterers), dtype=np.object)\n",
    "\n",
    "#The following will contain the left-hand side block operator\n",
    "op = bempp.api.BlockedOperator(2 * number_of_scatterers, 2 * number_of_scatterers)\n",
    "        \n",
    "filter_operators[0] = .5 * identity_operators[0]- scaled_interior_operators[0]\n",
    "element = scaled_interior_operators[0] + exterior_operators[0]\n",
    "#Assign the 2x2 element to the block operator matrix.\n",
    "op[0, 0] = element[0, 0]\n",
    "op[0, 1] = element[0, 1]\n",
    "op[1, 0] = element[1, 0]\n",
    "op[1, 1] = element[1, 1]  "
   ]
  },
  {
   "cell_type": "code",
   "execution_count": 8,
   "metadata": {},
   "outputs": [],
   "source": [
    "rhs = 2 * number_of_scatterers * [None]\n",
    "incident_trace_data = number_of_scatterers * [None]\n",
    "\n",
    "for i in range(number_of_scatterers):\n",
    "    incident_trace_data[i] = (\n",
    "        bempp.api.GridFunction(op.domain_spaces[2 * i], fun=tangential_trace, dual_space=op.dual_to_range_spaces[2 * i]),\n",
    "        bempp.api.GridFunction(op.domain_spaces[2 * i + 1], fun=neumann_trace, \n",
    "                               dual_space=op.dual_to_range_spaces[2 * i + 1]))\n",
    "    rhs[2 * i], rhs[2 * i + 1] = filter_operators[i] * incident_trace_data[i]"
   ]
  },
  {
   "cell_type": "markdown",
   "metadata": {},
   "source": [
    "System solve via GMRES:"
   ]
  },
  {
   "cell_type": "code",
   "execution_count": 9,
   "metadata": {},
   "outputs": [
    {
     "name": "stdout",
     "output_type": "stream",
     "text": [
      "The iterative solver converged in 18 iterations.\n"
     ]
    }
   ],
   "source": [
    "# With Calderon preconditioning:\n",
    "sol, info, its = bempp.api.linalg.gmres(op * op, op * rhs, use_strong_form=True, return_iteration_count=True)\n",
    "# With only mass-matrix preconditioning:\n",
    "#sol, info, its = bempp.api.linalg.gmres(op, rhs, use_strong_form=True, return_iteration_count=True)\n",
    "print(\"The iterative solver converged in {0} iterations.\".format(its))"
   ]
  },
  {
   "cell_type": "code",
   "execution_count": 10,
   "metadata": {},
   "outputs": [],
   "source": [
    "interior_trace_data = number_of_scatterers * [None]\n",
    "\n",
    "for i in range(number_of_scatterers):\n",
    "    interior_trace_data[i] = [np.sqrt(rel_permittivities[i]) * incident_trace_data[i][0],\n",
    "                              np.sqrt(rel_permeabilities[i]) * incident_trace_data[i][1]]\n",
    "    for j in range(number_of_scatterers):\n",
    "        if i != j:\n",
    "            efield, mfield = -transfer_operators[i, j] * (sol[2 * j], sol[2 * j + 1])\n",
    "        else:\n",
    "            efield, mfield = sol[2 * j], sol[2 * j + 1]\n",
    "        interior_trace_data[i][0] += np.sqrt(rel_permittivities[i]) * efield\n",
    "        interior_trace_data[i][1] += np.sqrt(rel_permeabilities[i]) * mfield"
   ]
  },
  {
   "cell_type": "markdown",
   "metadata": {},
   "source": [
    "If you want to plot the field in the z=0 plane, uncomment the section below."
   ]
  },
  {
   "cell_type": "code",
   "execution_count": 11,
   "metadata": {},
   "outputs": [],
   "source": [
    "# # Number of points in the x-direction\n",
    "# nx = 101\n",
    "# # Number of points in the y-direction\n",
    "# ny = 101\n",
    "# %matplotlib inline\n",
    "# from matplotlib import path\n",
    "# xmin, xmax, ymin, ymax = [-1.5, 1.5, -1.5, 1.5]\n",
    "# plot_grid = np.mgrid[xmin:xmax:nx * 1j, ymin:ymax:ny * 1j]\n",
    "# points = np.vstack((plot_grid[0].ravel(), plot_grid[1].ravel(), 0. * np.ones(plot_grid[0].size)))\n",
    "# points_plot = np.transpose(np.vstack((plot_grid[0].ravel(), plot_grid[1].ravel())))\n",
    "\n",
    "# x, y, z = points\n",
    "# # For hexagon\n",
    "# p = path.Path([(1,0),(0.5,0.866054),(-0.5,0.86602539),(-1,0),(-0.5,-0.8660254),(0.5,-0.8660254),(1,0)])\n",
    "# inout = p.contains_points(points_plot)\n",
    "\n",
    "# ext_indices = np.where(~inout)[0]\n",
    "# int_indices = np.where(inout)[0]\n",
    "# hey = np.logical_not(inout)\n",
    "\n",
    "# # Set high quadrature order to improve accuracy near the scatterer's boundary\n",
    "# bempp.api.global_parameters.quadrature.near.single_order = 15\n",
    "# bempp.api.global_parameters.quadrature.medium.single_order = 15\n",
    "\n",
    "# # Evaluate the field in the interior and exterior of the scatterer\n",
    "# epot_int = bempp.api.operators.potential.maxwell.electric_field(interior_trace_data[0][1].space, points[:,int_indices], wavenumber)\n",
    "# mpot_int = bempp.api.operators.potential.maxwell.magnetic_field(interior_trace_data[0][0].space, points[:,int_indices], wavenumber)\n",
    "# epot_ext = bempp.api.operators.potential.maxwell.electric_field(sol[1].space, points[:,ext_indices], k0)\n",
    "# mpot_ext = bempp.api.operators.potential.maxwell.magnetic_field(sol[0].space, points[:,ext_indices], k0)\n",
    "\n",
    "# exterior_values = -epot_ext * sol[1] - mpot_ext * sol[0]\n",
    "# interior_values = (epot_int * interior_trace_data[0][1] + mpot_int * interior_trace_data[0][0])\n",
    "\n",
    "# # First compute the scattered field\n",
    "# scattered_field = np.empty((3, points.shape[1]), dtype='complex128')\n",
    "# scattered_field[:, :] = np.nan\n",
    "# scattered_field[:, ext_indices] = 1./np.sqrt(vacuum_permittivity) * exterior_values\n",
    "\n",
    "# # Now compute the total field\n",
    "# total_field = np.empty((3, points.shape[1]), dtype='complex128')\n",
    "\n",
    "# for i in range(exterior_values.shape[1]):\n",
    "#     total_field[:, ext_indices[i]] = scattered_field[:, ext_indices[i]] + plane_wave(points[:, ext_indices[i]])\n",
    "    \n",
    "# for i in range(number_of_scatterers):\n",
    "#     # Add interior contributions\n",
    "#     total_field[:, int_indices] = 1. / np.sqrt(rel_permittivities[i] * vacuum_permittivity) * interior_values[i]\n",
    "    \n",
    "# plot_total_field = np.real(total_field[0,:])\n",
    "# total_image = plot_total_field.reshape(nx, ny).T\n",
    "\n",
    "# %matplotlib inline\n",
    "# # Plot the image\n",
    "# from matplotlib import pyplot as plt\n",
    "# import matplotlib.patches as patches\n",
    "# fig = plt.figure(figsize = (10, 8))\n",
    "# ax = fig.add_subplot(111)\n",
    "# patch = patches.PathPatch(p, facecolor='none', lw=2)\n",
    "# plt.imshow(total_image,extent=[-1.5,1.5,-1.5,1.5],cmap='bwr')\n",
    "# ax.add_patch(patch)\n",
    "# plt.xlabel('$x$')\n",
    "# plt.ylabel('$y$')\n",
    "# plt.colorbar()\n",
    "# plt.title(\"Re($E_x$) for $z=0$\")"
   ]
  },
  {
   "cell_type": "markdown",
   "metadata": {},
   "source": [
    "Evalulating and plotting the field along the y-axis (x=0, z=0)"
   ]
  },
  {
   "cell_type": "code",
   "execution_count": 12,
   "metadata": {},
   "outputs": [
    {
     "data": {
      "image/png": "[encoded data removed]",
      "text/plain": [
       "<matplotlib.figure.Figure at 0x7f179807b518>"
      ]
     },
     "metadata": {},
     "output_type": "display_data"
    }
   ],
   "source": [
    "# Evaluate the field along y-axis\n",
    "y_line = np.linspace(-0.84,0.84,200)\n",
    "points_line = np.vstack([y_line * 0., y_line, y_line * 0.])\n",
    "\n",
    "# Set high quadrature order to improve accuracy near the scatterer's boundary\n",
    "bempp.api.global_parameters.quadrature.near.single_order = 15\n",
    "bempp.api.global_parameters.quadrature.medium.single_order = 15\n",
    "\n",
    "epot_int = bempp.api.operators.potential.maxwell.electric_field(interior_trace_data[0][1].space, points_line, wavenumber)\n",
    "mpot_int = bempp.api.operators.potential.maxwell.magnetic_field(interior_trace_data[0][0].space, points_line, wavenumber)\n",
    "\n",
    "res_line = 1. / np.sqrt(rel_permittivities[i] * vacuum_permittivity)*(epot_int * interior_trace_data[0][1] + mpot_int * interior_trace_data[0][0])\n",
    "\n",
    "%matplotlib inline\n",
    "from matplotlib import pyplot as plt\n",
    "from matplotlib import pylab\n",
    "\n",
    "ax = plt.axes()\n",
    "ax.plot(y_line,np.real(res_line[0,:]))\n",
    "\n",
    "ax.yaxis.grid()\n",
    "ax.xaxis.grid()\n",
    "\n",
    "plt.show()"
   ]
  },
  {
   "cell_type": "markdown",
   "metadata": {},
   "source": [
    "Uncomment to plot the far-field pattern:"
   ]
  },
  {
   "cell_type": "code",
   "execution_count": 13,
   "metadata": {},
   "outputs": [],
   "source": [
    "# theta = np.linspace(0, 2 * np.pi, 3601)\n",
    "# points = np.vstack([np.cos(theta), np.sin(theta), 0. * theta])\n",
    "\n",
    "# electric_far = bempp.api.operators.far_field.maxwell.electric_field(sol[1].space, points, k0)\n",
    "# magnetic_far = bempp.api.operators.far_field.maxwell.magnetic_field(sol[0].space, points, k0)\n",
    "# far_field = -electric_far * sol[1] - magnetic_far * sol[0]\n",
    "# far_field *= 1./ np.sqrt(vacuum_permittivity)\n",
    "\n",
    "# squared_abs_far_field = np.sum(np.abs(far_field)**2, axis=0)\n",
    "\n",
    "# %matplotlib inline\n",
    "# from matplotlib import pyplot as plt\n",
    "# from matplotlib import pylab\n",
    "\n",
    "# plt.polar(theta, squared_abs_far_field)"
   ]
  }
 ],
 "metadata": {
  "kernelspec": {
   "display_name": "Python 3",
   "language": "python",
   "name": "python3"
  },
  "language_info": {
   "codemirror_mode": {
    "name": "ipython",
    "version": 3
   },
   "file_extension": ".py",
   "mimetype": "text/x-python",
   "name": "python",
   "nbconvert_exporter": "python",
   "pygments_lexer": "ipython3",
   "version": "3.5.2"
  }
 },
 "nbformat": 4,
 "nbformat_minor": 2
}
